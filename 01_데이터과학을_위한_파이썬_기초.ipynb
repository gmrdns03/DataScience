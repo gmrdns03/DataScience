{
  "nbformat": 4,
  "nbformat_minor": 0,
  "metadata": {
    "colab": {
      "name": "01. 데이터과학을 위한 파이썬 기초.ipynb",
      "provenance": [],
      "collapsed_sections": [],
      "authorship_tag": "ABX9TyP+JyQ1ReXkGN3Q+aqv/4Fo",
      "include_colab_link": true
    },
    "kernelspec": {
      "name": "python3",
      "display_name": "Python 3"
    },
    "language_info": {
      "name": "python"
    }
  },
  "cells": [
    {
      "cell_type": "markdown",
      "metadata": {
        "id": "view-in-github",
        "colab_type": "text"
      },
      "source": [
        "<a href=\"https://colab.research.google.com/github/monkeykim111/DataScience/blob/main/01_%EB%8D%B0%EC%9D%B4%ED%84%B0%EA%B3%BC%ED%95%99%EC%9D%84_%EC%9C%84%ED%95%9C_%ED%8C%8C%EC%9D%B4%EC%8D%AC_%EA%B8%B0%EC%B4%88.ipynb\" target=\"_parent\"><img src=\"https://colab.research.google.com/assets/colab-badge.svg\" alt=\"Open In Colab\"/></a>"
      ]
    },
    {
      "cell_type": "markdown",
      "metadata": {
        "id": "OA6ANBoCv0oZ"
      },
      "source": [
        "## 공백처리\n",
        "* strip() 공백 제거 함수 \n"
      ]
    },
    {
      "cell_type": "code",
      "metadata": {
        "colab": {
          "base_uri": "https://localhost:8080/",
          "height": 35
        },
        "id": "RRjV4CKzvkqg",
        "outputId": "e016a742-7484-4273-e418-5105683744d8"
      },
      "source": [
        "st = 'Hello World! \\t\\t\\n'\n",
        "st"
      ],
      "execution_count": null,
      "outputs": [
        {
          "output_type": "execute_result",
          "data": {
            "application/vnd.google.colaboratory.intrinsic+json": {
              "type": "string"
            },
            "text/plain": [
              "'Hello World! \\t\\t\\n'"
            ]
          },
          "metadata": {
            "tags": []
          },
          "execution_count": 37
        }
      ]
    },
    {
      "cell_type": "code",
      "metadata": {
        "colab": {
          "base_uri": "https://localhost:8080/",
          "height": 35
        },
        "id": "ryZPYjSYwYiU",
        "outputId": "5356c094-6423-48c5-bf19-6ef87c7c02e5"
      },
      "source": [
        "st.strip()\n",
        "# 모든 공백 제거"
      ],
      "execution_count": null,
      "outputs": [
        {
          "output_type": "execute_result",
          "data": {
            "application/vnd.google.colaboratory.intrinsic+json": {
              "type": "string"
            },
            "text/plain": [
              "'Hello World!'"
            ]
          },
          "metadata": {
            "tags": []
          },
          "execution_count": 38
        }
      ]
    },
    {
      "cell_type": "code",
      "metadata": {
        "colab": {
          "base_uri": "https://localhost:8080/",
          "height": 35
        },
        "id": "ix-NUt2nwb3v",
        "outputId": "dac79779-5572-42ec-8647-fd8b76946bad"
      },
      "source": [
        "st.lstrip()\n",
        "# 왼쪽 공백 제거"
      ],
      "execution_count": null,
      "outputs": [
        {
          "output_type": "execute_result",
          "data": {
            "application/vnd.google.colaboratory.intrinsic+json": {
              "type": "string"
            },
            "text/plain": [
              "'Hello World! \\t\\t\\n'"
            ]
          },
          "metadata": {
            "tags": []
          },
          "execution_count": 39
        }
      ]
    },
    {
      "cell_type": "code",
      "metadata": {
        "colab": {
          "base_uri": "https://localhost:8080/",
          "height": 35
        },
        "id": "ZowQW0KOxCMC",
        "outputId": "fbf326fa-64dd-4216-e509-2085206d4e6e"
      },
      "source": [
        "st.rstrip()\n",
        "# 오른쪽 공백 제거"
      ],
      "execution_count": null,
      "outputs": [
        {
          "output_type": "execute_result",
          "data": {
            "application/vnd.google.colaboratory.intrinsic+json": {
              "type": "string"
            },
            "text/plain": [
              "'Hello World!'"
            ]
          },
          "metadata": {
            "tags": []
          },
          "execution_count": 8
        }
      ]
    },
    {
      "cell_type": "markdown",
      "metadata": {
        "id": "JW6LvLN1xOr5"
      },
      "source": [
        "# 문자열 자르기\n",
        "split() 문자열 자르기 함수"
      ]
    },
    {
      "cell_type": "code",
      "metadata": {
        "colab": {
          "base_uri": "https://localhost:8080/"
        },
        "id": "DgZoBnA0xESI",
        "outputId": "efb6f8ff-4afc-4e5c-bba3-dc5875732e91"
      },
      "source": [
        "'Hello World!'.split()\n",
        "# default 공백을 제거함\n",
        "# 함수를 쓸 때 default값이 무엇인지 아는 것이 중요하다."
      ],
      "execution_count": null,
      "outputs": [
        {
          "output_type": "execute_result",
          "data": {
            "text/plain": [
              "['Hello', 'World!']"
            ]
          },
          "metadata": {
            "tags": []
          },
          "execution_count": 9
        }
      ]
    },
    {
      "cell_type": "code",
      "metadata": {
        "colab": {
          "base_uri": "https://localhost:8080/"
        },
        "id": "Uhy1Jxz7xhRY",
        "outputId": "080e79eb-066d-4f4a-ebb4-682c99eda9c8"
      },
      "source": [
        "'Hell,o World!'.split(',')\n",
        "# 구분자를 콤마로 구분짓는다."
      ],
      "execution_count": null,
      "outputs": [
        {
          "output_type": "execute_result",
          "data": {
            "text/plain": [
              "['Hell', 'o World!']"
            ]
          },
          "metadata": {
            "tags": []
          },
          "execution_count": 13
        }
      ]
    },
    {
      "cell_type": "code",
      "metadata": {
        "colab": {
          "base_uri": "https://localhost:8080/"
        },
        "id": "7VMDL3HOx4H-",
        "outputId": "079770d4-0e34-42b4-a1cb-33b043c5848c"
      },
      "source": [
        "'https://colab.research.google.com/drive/1igofU1F77JMKiNb5jVMHQFOO7wfXyoEH?hl=ko#scrollTo=7VMDL3HOx4H-'.split('.')"
      ],
      "execution_count": null,
      "outputs": [
        {
          "output_type": "execute_result",
          "data": {
            "text/plain": [
              "['https://colab',\n",
              " 'research',\n",
              " 'google',\n",
              " 'com/drive/1igofU1F77JMKiNb5jVMHQFOO7wfXyoEH?hl=ko#scrollTo=7VMDL3HOx4H-']"
            ]
          },
          "metadata": {
            "tags": []
          },
          "execution_count": 17
        }
      ]
    },
    {
      "cell_type": "code",
      "metadata": {
        "colab": {
          "base_uri": "https://localhost:8080/"
        },
        "id": "n0APKPWfyVat",
        "outputId": "e97b094a-3fa4-418d-f047-cf90f1db5a3c"
      },
      "source": [
        "'www.naver.com'.split('.')"
      ],
      "execution_count": null,
      "outputs": [
        {
          "output_type": "execute_result",
          "data": {
            "text/plain": [
              "['www', 'naver', 'com']"
            ]
          },
          "metadata": {
            "tags": []
          },
          "execution_count": 19
        }
      ]
    },
    {
      "cell_type": "markdown",
      "metadata": {
        "id": "K3zs42GsyvoC"
      },
      "source": [
        "# 문자 연결\n",
        "* join() 문자열을 연결시키는 함수"
      ]
    },
    {
      "cell_type": "code",
      "metadata": {
        "colab": {
          "base_uri": "https://localhost:8080/",
          "height": 35
        },
        "id": "uxrFuQbtyexq",
        "outputId": "e98afe65-6e4c-48c0-9bc4-7a38922ba1ea"
      },
      "source": [
        "\" -> \".join(['alpha', 'bravo', 'chalie', 'delta'])\n",
        "# 문자열 리스트를 join을 이용해서 하나의 문자열로 붙인다.\n",
        "# split()과 반대의 역할을 하는 함수"
      ],
      "execution_count": null,
      "outputs": [
        {
          "output_type": "execute_result",
          "data": {
            "application/vnd.google.colaboratory.intrinsic+json": {
              "type": "string"
            },
            "text/plain": [
              "'alpha -> bravo -> chalie -> delta'"
            ]
          },
          "metadata": {
            "tags": []
          },
          "execution_count": 25
        }
      ]
    },
    {
      "cell_type": "code",
      "metadata": {
        "colab": {
          "base_uri": "https://localhost:8080/",
          "height": 35
        },
        "id": "IDMZE3TczBkK",
        "outputId": "1ffbb60a-167f-4768-8a49-afb784edec28"
      },
      "source": [
        "' - '.join('1.615.234.3433'.split('.'))\n",
        "# 1. split()을 이용해서 구분자로 문자열 나누기\n",
        "# 2. join()을 이용해서 원하는 구분자를 추가해 재조합하기"
      ],
      "execution_count": null,
      "outputs": [
        {
          "output_type": "execute_result",
          "data": {
            "application/vnd.google.colaboratory.intrinsic+json": {
              "type": "string"
            },
            "text/plain": [
              "'1 - 615 - 234 - 3433'"
            ]
          },
          "metadata": {
            "tags": []
          },
          "execution_count": 28
        }
      ]
    },
    {
      "cell_type": "code",
      "metadata": {
        "colab": {
          "base_uri": "https://localhost:8080/",
          "height": 35
        },
        "id": "O9oIFJKQz3wG",
        "outputId": "8f4803c6-7391-4f7d-a1f0-71d32241882d"
      },
      "source": [
        "'-'.join('This string \\n\\t has many\\n spaces'.split())"
      ],
      "execution_count": null,
      "outputs": [
        {
          "output_type": "execute_result",
          "data": {
            "application/vnd.google.colaboratory.intrinsic+json": {
              "type": "string"
            },
            "text/plain": [
              "'This-string-has-many-spaces'"
            ]
          },
          "metadata": {
            "tags": []
          },
          "execution_count": 32
        }
      ]
    },
    {
      "cell_type": "code",
      "metadata": {
        "colab": {
          "base_uri": "https://localhost:8080/"
        },
        "id": "VhhYctZr0zLn",
        "outputId": "95036568-05bb-4a12-c333-b8b6663f3811"
      },
      "source": [
        "'This string \\n\\t has many\\n spaces'.split()"
      ],
      "execution_count": null,
      "outputs": [
        {
          "output_type": "execute_result",
          "data": {
            "text/plain": [
              "['This', 'string', 'has', 'many', 'spaces']"
            ]
          },
          "metadata": {
            "tags": []
          },
          "execution_count": 34
        }
      ]
    },
    {
      "cell_type": "code",
      "metadata": {
        "colab": {
          "base_uri": "https://localhost:8080/",
          "height": 35
        },
        "id": "xKAI9c3c1Cex",
        "outputId": "934e3d06-8da6-4ed6-cffd-62844124e30c"
      },
      "source": [
        "' '.join('This string \\n\\t has many\\n spaces'.split())"
      ],
      "execution_count": null,
      "outputs": [
        {
          "output_type": "execute_result",
          "data": {
            "application/vnd.google.colaboratory.intrinsic+json": {
              "type": "string"
            },
            "text/plain": [
              "'This string has many spaces'"
            ]
          },
          "metadata": {
            "tags": []
          },
          "execution_count": 36
        }
      ]
    },
    {
      "cell_type": "markdown",
      "metadata": {
        "id": "fFbuJq1h1iXw"
      },
      "source": [
        "# 문자 찾기\n",
        "* find() 인덱스의 위치를 반환, 값이 없으면 -1을 반환한다.\n",
        "* 대소문자를 구분한다."
      ]
    },
    {
      "cell_type": "code",
      "metadata": {
        "colab": {
          "base_uri": "https://localhost:8080/"
        },
        "id": "AbQ1Keo21G1e",
        "outputId": "e083d118-6892-41a3-fc1d-be64f6628005"
      },
      "source": [
        "'www.networksciencelab.com'.find('.com')"
      ],
      "execution_count": null,
      "outputs": [
        {
          "output_type": "execute_result",
          "data": {
            "text/plain": [
              "21"
            ]
          },
          "metadata": {
            "tags": []
          },
          "execution_count": 41
        }
      ]
    },
    {
      "cell_type": "code",
      "metadata": {
        "colab": {
          "base_uri": "https://localhost:8080/"
        },
        "id": "PA2lSKXf2Ybp",
        "outputId": "9f666191-33ba-4ab9-e51b-487d592c190f"
      },
      "source": [
        "'www.networksciencelab.Com'.find('.com')\n",
        "# find()는 대소문을 구분하므로 정확히 일치하는 값이어야 한다."
      ],
      "execution_count": null,
      "outputs": [
        {
          "output_type": "execute_result",
          "data": {
            "text/plain": [
              "-1"
            ]
          },
          "metadata": {
            "tags": []
          },
          "execution_count": 44
        }
      ]
    },
    {
      "cell_type": "markdown",
      "metadata": {
        "id": "j9R8ybXc2h4W"
      },
      "source": [
        "*Count() 해당 문자열에서 등장하는 횟수를 반환하는 함수\n",
        "*Count()에 찾는 값이 없으면 0이 출력된다."
      ]
    },
    {
      "cell_type": "code",
      "metadata": {
        "colab": {
          "base_uri": "https://localhost:8080/"
        },
        "id": "G7Djjhec2jJl",
        "outputId": "33e54d28-abd3-4830-8bf4-6de84e49a92a"
      },
      "source": [
        "'www.networksciencelab.Com'.count('.')\n",
        "# 2r가 출력도"
      ],
      "execution_count": null,
      "outputs": [
        {
          "output_type": "execute_result",
          "data": {
            "text/plain": [
              "2"
            ]
          },
          "metadata": {
            "tags": []
          },
          "execution_count": 46
        }
      ]
    },
    {
      "cell_type": "code",
      "metadata": {
        "colab": {
          "base_uri": "https://localhost:8080/"
        },
        "id": "MYyS-xMV2hL4",
        "outputId": "16d15aa7-5434-4fe1-95ea-70a53aa1ba5f"
      },
      "source": [
        "'www.networksciencelab.Com'.count('w')"
      ],
      "execution_count": null,
      "outputs": [
        {
          "output_type": "execute_result",
          "data": {
            "text/plain": [
              "4"
            ]
          },
          "metadata": {
            "tags": []
          },
          "execution_count": 48
        }
      ]
    },
    {
      "cell_type": "markdown",
      "metadata": {
        "id": "Y_7Y6fnz3etq"
      },
      "source": [
        "*프레디 케이트 함수: 문자열 s가 특정 클래스에 속하는지 True, False로 반환"
      ]
    },
    {
      "cell_type": "code",
      "metadata": {
        "colab": {
          "base_uri": "https://localhost:8080/"
        },
        "id": "h46qyOxm3fm_",
        "outputId": "ad186aa0-1982-4e07-b526-2fae83fad893"
      },
      "source": [
        "'www.networksciencelab.com'.islower()\n",
        "# 모든 알파벳 문자가 소문자인지 체크"
      ],
      "execution_count": null,
      "outputs": [
        {
          "output_type": "execute_result",
          "data": {
            "text/plain": [
              "True"
            ]
          },
          "metadata": {
            "tags": []
          },
          "execution_count": 50
        }
      ]
    },
    {
      "cell_type": "code",
      "metadata": {
        "colab": {
          "base_uri": "https://localhost:8080/"
        },
        "id": "U-A2QVH_3fir",
        "outputId": "9f280f03-1abb-4ebb-b01b-513198b6ebc1"
      },
      "source": [
        "'www.networksciencelab.com'.isupper()"
      ],
      "execution_count": null,
      "outputs": [
        {
          "output_type": "execute_result",
          "data": {
            "text/plain": [
              "False"
            ]
          },
          "metadata": {
            "tags": []
          },
          "execution_count": 51
        }
      ]
    },
    {
      "cell_type": "code",
      "metadata": {
        "colab": {
          "base_uri": "https://localhost:8080/"
        },
        "id": "EPAlgdca24OV",
        "outputId": "0dc839e6-8201-4faa-ad47-134615060736"
      },
      "source": [
        "'www.networksciencelab.com'.isdigit()\n",
        "# 0 ~ 9 사이 숫자인지 확인하라"
      ],
      "execution_count": null,
      "outputs": [
        {
          "output_type": "execute_result",
          "data": {
            "text/plain": [
              "False"
            ]
          },
          "metadata": {
            "tags": []
          },
          "execution_count": 52
        }
      ]
    },
    {
      "cell_type": "code",
      "metadata": {
        "colab": {
          "base_uri": "https://localhost:8080/"
        },
        "id": "E-Vrz9hx3cbU",
        "outputId": "5a4504bc-3d28-45be-a736-8d366fc3a29d"
      },
      "source": [
        "'www.networksciencelab.com'.isalpha()\n",
        "# dot을 제거 해야 만 true\n"
      ],
      "execution_count": null,
      "outputs": [
        {
          "output_type": "execute_result",
          "data": {
            "text/plain": [
              "False"
            ]
          },
          "metadata": {
            "tags": []
          },
          "execution_count": 53
        }
      ]
    },
    {
      "cell_type": "code",
      "metadata": {
        "colab": {
          "base_uri": "https://localhost:8080/"
        },
        "id": "SZidYBlV41gV",
        "outputId": "2e73669e-64d9-4acd-eaff-71e7410368aa"
      },
      "source": [
        "'wwwnetworksciencelabcom'.islower()\n",
        "# 알파벳(숫자, 특수기호 불가)인지 체크하는 함수"
      ],
      "execution_count": null,
      "outputs": [
        {
          "output_type": "execute_result",
          "data": {
            "text/plain": [
              "True"
            ]
          },
          "metadata": {
            "tags": []
          },
          "execution_count": 55
        }
      ]
    },
    {
      "cell_type": "markdown",
      "metadata": {
        "id": "kxXlqoS15UAh"
      },
      "source": [
        "* 대소문자 변환 함수\n",
        "* 모든 문자 대소문자 변환(문자열s의 복사본 반환)"
      ]
    },
    {
      "cell_type": "code",
      "metadata": {
        "colab": {
          "base_uri": "https://localhost:8080/",
          "height": 35
        },
        "id": "Of4x04fR5Pzo",
        "outputId": "235f1ce4-632e-4bb4-b965-a1521d724a58"
      },
      "source": [
        "st = 'www.networksciencelab.com'.upper()\n",
        "st"
      ],
      "execution_count": null,
      "outputs": [
        {
          "output_type": "execute_result",
          "data": {
            "application/vnd.google.colaboratory.intrinsic+json": {
              "type": "string"
            },
            "text/plain": [
              "'WWW.NETWORKSCIENCELAB.COM'"
            ]
          },
          "metadata": {
            "tags": []
          },
          "execution_count": 61
        }
      ]
    },
    {
      "cell_type": "code",
      "metadata": {
        "colab": {
          "base_uri": "https://localhost:8080/",
          "height": 35
        },
        "id": "Dbg1BMPj5YXP",
        "outputId": "a02825d9-b8db-4864-e260-5d29c7a8bf8d"
      },
      "source": [
        "st.lower()"
      ],
      "execution_count": null,
      "outputs": [
        {
          "output_type": "execute_result",
          "data": {
            "application/vnd.google.colaboratory.intrinsic+json": {
              "type": "string"
            },
            "text/plain": [
              "'www.networksciencelab.com'"
            ]
          },
          "metadata": {
            "tags": []
          },
          "execution_count": 62
        }
      ]
    },
    {
      "cell_type": "markdown",
      "metadata": {
        "id": "5bdDaMQPNq-V"
      },
      "source": [
        "# 2. 올바른 자료구조 선택하기\n",
        "* 중복된 아이템이 있는 리스트 -> myList"
      ]
    },
    {
      "cell_type": "code",
      "metadata": {
        "colab": {
          "base_uri": "https://localhost:8080/"
        },
        "id": "cPX5gU4L5gyp",
        "outputId": "ec9448b4-7f0d-48e8-d70c-1b59e251fad3"
      },
      "source": [
        "myList = \"This string\\n\\r has many\\t\\tspaces\\tThis string\\n\\r has many\\t\\tspaces\".split()\n",
        "myList"
      ],
      "execution_count": null,
      "outputs": [
        {
          "output_type": "execute_result",
          "data": {
            "text/plain": [
              "['This',\n",
              " 'string',\n",
              " 'has',\n",
              " 'many',\n",
              " 'spaces',\n",
              " 'This',\n",
              " 'string',\n",
              " 'has',\n",
              " 'many',\n",
              " 'spaces']"
            ]
          },
          "metadata": {
            "tags": []
          },
          "execution_count": 63
        }
      ]
    },
    {
      "cell_type": "markdown",
      "metadata": {
        "id": "v6LncfqdONc1"
      },
      "source": [
        "리스트 -> 셋 변환 -> 다시 리스트로 변환"
      ]
    },
    {
      "cell_type": "code",
      "metadata": {
        "id": "BIlCgMcvODLM"
      },
      "source": [
        "# 1) 셋 변환(중복 제거)\n",
        "set(myList)\n",
        "\n",
        "# 2) 중복 제거한 데이터를 리스트로 변환\n",
        "myList = list(set(myList))\n",
        "\n",
        "# 별도의 코딩 없이도 자료구조를 이용해서 중복을 제거할 수 있음"
      ],
      "execution_count": null,
      "outputs": []
    },
    {
      "cell_type": "code",
      "metadata": {
        "colab": {
          "base_uri": "https://localhost:8080/"
        },
        "id": "OL3G7FF2OdJp",
        "outputId": "727bc8fc-1531-46ef-fa66-cc385a103305"
      },
      "source": [
        "myList"
      ],
      "execution_count": null,
      "outputs": [
        {
          "output_type": "execute_result",
          "data": {
            "text/plain": [
              "['spaces', 'string', 'This', 'has', 'many']"
            ]
          },
          "metadata": {
            "tags": []
          },
          "execution_count": 68
        }
      ]
    },
    {
      "cell_type": "code",
      "metadata": {
        "colab": {
          "base_uri": "https://localhost:8080/"
        },
        "id": "8KrcQOK-PPQg",
        "outputId": "4383cadb-6052-4d97-d4b0-30ec09c90dad"
      },
      "source": [
        "# list comprehension\n",
        "bigList = [str(i) for i in range(10000000)]\n",
        "\n",
        "'abc' in bigList # 2초 걸림\n",
        "# bigList에 abc 데이터가 in 되어 있는지 확인함"
      ],
      "execution_count": null,
      "outputs": [
        {
          "output_type": "execute_result",
          "data": {
            "text/plain": [
              "False"
            ]
          },
          "metadata": {
            "tags": []
          },
          "execution_count": 72
        }
      ]
    },
    {
      "cell_type": "code",
      "metadata": {
        "colab": {
          "base_uri": "https://localhost:8080/"
        },
        "id": "lDdJIPc4Pfh-",
        "outputId": "52f4a8a4-9184-4432-b23d-b2944a119389"
      },
      "source": [
        "bigList = set(bigList)\n",
        "# set으로 변환 하면 중복 제거가 되기 때문에 데이터 조회 시 빠르다.\n",
        "'abc' in bigList # 0초 걸림"
      ],
      "execution_count": null,
      "outputs": [
        {
          "output_type": "execute_result",
          "data": {
            "text/plain": [
              "False"
            ]
          },
          "metadata": {
            "tags": []
          },
          "execution_count": 75
        }
      ]
    },
    {
      "cell_type": "markdown",
      "metadata": {
        "id": "tc3XuZ60Re5g"
      },
      "source": [
        "딕셔너리(키 : 벨류로 검색해야 할 때 매우 유용)"
      ]
    },
    {
      "cell_type": "code",
      "metadata": {
        "colab": {
          "base_uri": "https://localhost:8080/"
        },
        "id": "grqVtfhwQJ0g",
        "outputId": "07e6732b-d4d8-4389-df7e-59c93927da80"
      },
      "source": [
        "# 1. 리스트 준비\n",
        "seq = ['alpha', 'bravo', 'charlie', 'delta']\n",
        "\n",
        "# 2. 딕셔너리 만들기 -> 인덱스 정보를 key로, data를 value로 만듦\n",
        "dict(enumerate(seq))\n"
      ],
      "execution_count": null,
      "outputs": [
        {
          "output_type": "execute_result",
          "data": {
            "text/plain": [
              "{0: 'alpha', 1: 'bravo', 2: 'charlie', 3: 'delta'}"
            ]
          },
          "metadata": {
            "tags": []
          },
          "execution_count": 79
        }
      ]
    },
    {
      "cell_type": "markdown",
      "metadata": {
        "id": "luFHA2BPTqMR"
      },
      "source": [
        "리스트 딕셔너리 만들기 - 키 순서열과 값 순서열에 클래스 생성자인 zip(key, value) 사용"
      ]
    },
    {
      "cell_type": "code",
      "metadata": {
        "colab": {
          "base_uri": "https://localhost:8080/"
        },
        "id": "80Jo3VCqSgac",
        "outputId": "f073e13b-1dcc-4396-9d30-111d32415d30"
      },
      "source": [
        "kseq = 'abcd' # 문자열 또한 순서열이다.\n",
        "vseq = ['alpha', 'bravo', 'charlie', 'delta']\n",
        "dict(zip(kseq, vseq))\n",
        "# 내가 원하는 값을 킷값에 넣고 싶을 때 zip()을 사용한다."
      ],
      "execution_count": null,
      "outputs": [
        {
          "output_type": "execute_result",
          "data": {
            "text/plain": [
              "{'a': 'alpha', 'b': 'bravo', 'c': 'charlie', 'd': 'delta'}"
            ]
          },
          "metadata": {
            "tags": []
          },
          "execution_count": 2
        }
      ]
    },
    {
      "cell_type": "code",
      "metadata": {
        "colab": {
          "base_uri": "https://localhost:8080/"
        },
        "id": "frqsLBGpT5yP",
        "outputId": "ac3e0efd-268c-46ea-a901-75f523e6c950"
      },
      "source": [
        "kseq = 'aaaa' # 키는 중복될 수 없으므로 하나의 키만을 사용한다.\n",
        "vseq = ['alpha', 'bravo', 'charlie', 'delta']\n",
        "dict(zip(kseq, vseq))"
      ],
      "execution_count": null,
      "outputs": [
        {
          "output_type": "execute_result",
          "data": {
            "text/plain": [
              "{'a': 'delta'}"
            ]
          },
          "metadata": {
            "tags": []
          },
          "execution_count": 82
        }
      ]
    },
    {
      "cell_type": "markdown",
      "metadata": {
        "id": "kbTSQK05Zjxn"
      },
      "source": [
        "# 카운터로 세기\n",
        "* import collection import Counter\n",
        "* 딕셔너리 스타일의 컬렉션에서 다른 컬렉션 안의 아이템의 갯수를 셀 때 사용한다."
      ]
    },
    {
      "cell_type": "code",
      "metadata": {
        "colab": {
          "base_uri": "https://localhost:8080/"
        },
        "id": "XwsnXFFTaJ_E",
        "outputId": "93cdbf2e-4f80-4c3a-d2f7-fde6a3908ed1"
      },
      "source": [
        "from collections import Counter\n",
        "\n",
        "phrase = 'a man a plan a canal panama'\n",
        "\n",
        "cntr = Counter(phrase.split())\n",
        "\n",
        "cntr.most_common(1)\n",
        "# 가장 빈번하게 등장한 n개의 아이템과 빈도 추출\n",
        "\n",
        "# 출력한 리스트를 딕셔너리로 변환하면 가독성이 좋아짐\n",
        "conDict = dict(cntr.most_common())\n",
        "conDict"
      ],
      "execution_count": null,
      "outputs": [
        {
          "output_type": "execute_result",
          "data": {
            "text/plain": [
              "{'a': 3, 'canal': 1, 'man': 1, 'panama': 1, 'plan': 1}"
            ]
          },
          "metadata": {
            "tags": []
          },
          "execution_count": 92
        }
      ]
    },
    {
      "cell_type": "code",
      "metadata": {
        "colab": {
          "base_uri": "https://localhost:8080/"
        },
        "id": "PNu_PrDLYXtb",
        "outputId": "5202d4e1-8900-475c-ce0c-889cef46cd49"
      },
      "source": [
        "cntr\n",
        "# a가 3번이 반복되었음을 알 수 있음\n",
        "# key : 추출된 아이템 : value : 아이템의 빈도"
      ],
      "execution_count": null,
      "outputs": [
        {
          "output_type": "execute_result",
          "data": {
            "text/plain": [
              "Counter({'a': 3, 'canal': 1, 'man': 1, 'panama': 1, 'plan': 1})"
            ]
          },
          "metadata": {
            "tags": []
          },
          "execution_count": 86
        }
      ]
    },
    {
      "cell_type": "markdown",
      "metadata": {
        "id": "DXkEb2y4d_MC"
      },
      "source": [
        "# 웹에 접근하기\n",
        "* import urllib.request"
      ]
    },
    {
      "cell_type": "code",
      "metadata": {
        "colab": {
          "base_uri": "https://localhost:8080/"
        },
        "id": "4XHYwtWpa1qG",
        "outputId": "b3297ba9-460a-42cd-d40e-ce0c5139deb9"
      },
      "source": [
        "import urllib.request\n",
        "\n",
        "try:\n",
        "  with urllib.urlopen('http://networksciencelab.com') as doc:\n",
        "    html = doc.read()\n",
        "    print(html)\n",
        "  \n",
        "except:\n",
        "  print('Could not open')\n",
        "# except는 예외처리 하는 것 / 오류가 나면 except로 가서 except를 실행하고 끝내는 것임\n",
        "# 오류는 항상 난다는 생각을 하고 오류가 났을 때 예외처리를 잘 해줘야 함\n",
        "\n"
      ],
      "execution_count": null,
      "outputs": [
        {
          "output_type": "stream",
          "text": [
            "Could not open\n"
          ],
          "name": "stdout"
        }
      ]
    },
    {
      "cell_type": "code",
      "metadata": {
        "colab": {
          "base_uri": "https://localhost:8080/",
          "height": 134
        },
        "id": "udNwzK1QcOac",
        "outputId": "d6855579-2872-434b-baad-2993c38ec919"
      },
      "source": [
        "import urllib.request\n",
        "\n",
        "try:\n",
        "  with urllib.urlopen('http://networksciencelab.com') as doc:\n",
        "    html = doc.read()\n",
        "    print(html)\n",
        "\n",
        "# 오류가 났을 때 except가 없으면 오류가 뜨고 멈추게 됨"
      ],
      "execution_count": null,
      "outputs": [
        {
          "output_type": "error",
          "ename": "SyntaxError",
          "evalue": "ignored",
          "traceback": [
            "\u001b[0;36m  File \u001b[0;32m\"<ipython-input-95-8ad188905c80>\"\u001b[0;36m, line \u001b[0;32m6\u001b[0m\n\u001b[0;31m    print(html)\u001b[0m\n\u001b[0m               ^\u001b[0m\n\u001b[0;31mSyntaxError\u001b[0m\u001b[0;31m:\u001b[0m unexpected EOF while parsing\n"
          ]
        }
      ]
    },
    {
      "cell_type": "code",
      "metadata": {
        "colab": {
          "base_uri": "https://localhost:8080/"
        },
        "id": "YVfmEKP3gPRK",
        "outputId": "06d16119-9358-4909-e4e8-afc90e91004e"
      },
      "source": [
        "import urllib.parse\n",
        "# parsing은 읽어 들여서 분류시키는 작업을 말함\n",
        "# url 주소는 규칙이 있어서 그 규칙에 따라 파싱을 해줘야 함\n",
        "# 주소에 접속할 때 파싱을 해야 한다.\n",
        "\n",
        "URL = \"http://networksciencelab.com/index.html;param?foo=bar#content\"\n",
        "urllib.parse.urlparse(URL)\n"
      ],
      "execution_count": null,
      "outputs": [
        {
          "output_type": "execute_result",
          "data": {
            "text/plain": [
              "ParseResult(scheme='http', netloc='networksciencelab.com', path='/index.html', params='param', query='foo=bar', fragment='content')"
            ]
          },
          "metadata": {
            "tags": []
          },
          "execution_count": 97
        }
      ]
    },
    {
      "cell_type": "markdown",
      "metadata": {
        "id": "6goR7FVVoT65"
      },
      "source": [
        "정규식"
      ]
    },
    {
      "cell_type": "code",
      "metadata": {
        "colab": {
          "base_uri": "https://localhost:8080/"
        },
        "id": "-XXl4B0dhuH8",
        "outputId": "e8e606bf-eef9-47a1-e3c5-ded954df9ab0"
      },
      "source": [
        "a = 'abcdef\\n'\n",
        "print(a)"
      ],
      "execution_count": null,
      "outputs": [
        {
          "output_type": "stream",
          "text": [
            "abcdef\n",
            "\n"
          ],
          "name": "stdout"
        }
      ]
    },
    {
      "cell_type": "code",
      "metadata": {
        "colab": {
          "base_uri": "https://localhost:8080/"
        },
        "id": "JJJZ-fyboaoW",
        "outputId": "291755a9-b476-480e-a221-d468f277f97a"
      },
      "source": [
        "b = r'abcdef\\nt' \n",
        "# 원천 문자열(raw string)로 인식 / r을 붙이면 그대로 다 추출함, 정규식을 보기가 더 간단해짐 // 37p\n",
        "# 정규식을 보기 더 간단하게 하기 위해서 앞에 r을 붙인다. 굳이 역슬래시를 두 번 쓸 필요가 없음\n",
        "print(b)"
      ],
      "execution_count": null,
      "outputs": [
        {
          "output_type": "stream",
          "text": [
            "abcdef\\nt\n"
          ],
          "name": "stdout"
        }
      ]
    },
    {
      "cell_type": "code",
      "metadata": {
        "colab": {
          "base_uri": "https://localhost:8080/"
        },
        "id": "ZN8XQQ1noxHb",
        "outputId": "750740d4-4c75-4742-98b3-ce680e4beeaa"
      },
      "source": [
        "# 정규 표현식으로 패턴 매칭하기\n",
        "# re.split() 함수 단어 분석을 위해 기본적인 단어 토크나이저로 사용할 수 있음\n",
        "import re\n",
        "re.split(r'\\W', 'Hello, World!') # r'\\W': 숫자, 알파벳 제외한 개체를 잘라라\n"
      ],
      "execution_count": null,
      "outputs": [
        {
          "output_type": "execute_result",
          "data": {
            "text/plain": [
              "['Hello', '', 'World', '']"
            ]
          },
          "metadata": {
            "tags": []
          },
          "execution_count": 109
        }
      ]
    },
    {
      "cell_type": "code",
      "metadata": {
        "colab": {
          "base_uri": "https://localhost:8080/"
        },
        "id": "7x7gxNV5rwrM",
        "outputId": "9589c80b-3fbf-4952-d6f3-edba3cd90035"
      },
      "source": [
        "# 인근에 위치한 비문자 (,) 콤마 를 합친다. --- +를 해준다.\n",
        "re.split(r'\\W+', 'Hello,,, World!')  # r'\\W+' 알파벳이나 숫자가 아닌 개체 1개 이상을 합친다(+)"
      ],
      "execution_count": null,
      "outputs": [
        {
          "output_type": "execute_result",
          "data": {
            "text/plain": [
              "['Hello', 'World', '']"
            ]
          },
          "metadata": {
            "tags": []
          },
          "execution_count": 110
        }
      ]
    },
    {
      "cell_type": "code",
      "metadata": {
        "colab": {
          "base_uri": "https://localhost:8080/"
        },
        "id": "Ozq6dyWTqPJN",
        "outputId": "f35bc350-1e72-46fd-8321-471c8666785a"
      },
      "source": [
        "mo = re.match('\\d+', '0678 Start with a number.')\n",
        "# \\d는 숫자 한 자리를 찾아라\n",
        "# \\d+는 숫자를 찾고 숫자가 나올 때까지 찾는다.\n",
        "mo"
      ],
      "execution_count": null,
      "outputs": [
        {
          "output_type": "execute_result",
          "data": {
            "text/plain": [
              "<re.Match object; span=(0, 4), match='0678'>"
            ]
          },
          "metadata": {
            "tags": []
          },
          "execution_count": 112
        }
      ]
    },
    {
      "cell_type": "code",
      "metadata": {
        "colab": {
          "base_uri": "https://localhost:8080/",
          "height": 35
        },
        "id": "WDouQXActbtG",
        "outputId": "e5b30f35-69f9-412f-839b-4578fe780e51"
      },
      "source": [
        "mo.group()\n",
        "# 실제 값 반환하기"
      ],
      "execution_count": null,
      "outputs": [
        {
          "output_type": "execute_result",
          "data": {
            "application/vnd.google.colaboratory.intrinsic+json": {
              "type": "string"
            },
            "text/plain": [
              "'0678'"
            ]
          },
          "metadata": {
            "tags": []
          },
          "execution_count": 114
        }
      ]
    },
    {
      "cell_type": "code",
      "metadata": {
        "colab": {
          "base_uri": "https://localhost:8080/"
        },
        "id": "HcNpH_3Yt3bT",
        "outputId": "7b79ff19-8680-4f56-a53a-940d552495ca"
      },
      "source": [
        "# 정규식부터 다시 하기\n",
        "print(re.match('\\d+', 'Does not Start with a number.'))\n",
        "# 숫자가 없으면 none이 출력된다."
      ],
      "execution_count": null,
      "outputs": [
        {
          "output_type": "stream",
          "text": [
            "None\n"
          ],
          "name": "stdout"
        }
      ]
    },
    {
      "cell_type": "code",
      "metadata": {
        "colab": {
          "base_uri": "https://localhost:8080/"
        },
        "id": "Uqe02FAWuFcW",
        "outputId": "a2141693-4e9b-419c-a1cd-f4f20edad599"
      },
      "source": [
        "print(re.match('\\d+', 'Does not 010 Start with a number.'))\n",
        "# 숫자가 중간에 있으면 찾을 수 없음\n",
        "# match는 첫번째 문장부터 숫자를 찾기 때문에 처음부터 숫자가 시작되지 않으면 찾을 수 없다."
      ],
      "execution_count": null,
      "outputs": [
        {
          "output_type": "stream",
          "text": [
            "None\n"
          ],
          "name": "stdout"
        }
      ]
    },
    {
      "cell_type": "code",
      "metadata": {
        "colab": {
          "base_uri": "https://localhost:8080/",
          "height": 35
        },
        "id": "UG7rKHN-uURB",
        "outputId": "a00a8b45-b19c-4f74-b665-c655d674c12c"
      },
      "source": [
        "# 중간에 숫자를 찾기 위해서는 search를 사용한다.(매칭되는 게 앞 부분에 없으면 search함수를 사용)\n",
        "# [a-z] : 소문자들만 일치 / 소문자로된 a부터 z를 찾음\n",
        "# re.i: 대소문자를 구분하지 않는다.\n",
        "\n",
        "re.search(r'[a-z]+', '01010101 Has at least 10110100', re.I).group()\n"
      ],
      "execution_count": null,
      "outputs": [
        {
          "output_type": "execute_result",
          "data": {
            "application/vnd.google.colaboratory.intrinsic+json": {
              "type": "string"
            },
            "text/plain": [
              "'Has'"
            ]
          },
          "metadata": {
            "tags": []
          },
          "execution_count": 121
        }
      ]
    },
    {
      "cell_type": "code",
      "metadata": {
        "colab": {
          "base_uri": "https://localhost:8080/",
          "height": 35
        },
        "id": "FvK1CXX4un6x",
        "outputId": "5f405ab2-60be-4e38-8e87-e4c099a9b382"
      },
      "source": [
        "# 중간에 숫자를 찾기 위해서는 search를 사용한다.(매칭되는 게 앞 부분에 없으면 search함수를 사용)\n",
        "# [a-z] : 소문자들만 일치 / 소문자로된 a부터 z를 찾음\n",
        "# re.i: 대소문자를 구분하지 않는다.\n",
        "\n",
        "re.search(r'[a-z]+', '01010101 Has at least 10110100').group()"
      ],
      "execution_count": null,
      "outputs": [
        {
          "output_type": "execute_result",
          "data": {
            "application/vnd.google.colaboratory.intrinsic+json": {
              "type": "string"
            },
            "text/plain": [
              "'as'"
            ]
          },
          "metadata": {
            "tags": []
          },
          "execution_count": 122
        }
      ]
    },
    {
      "cell_type": "code",
      "metadata": {
        "colab": {
          "base_uri": "https://localhost:8080/",
          "height": 35
        },
        "id": "6Xum8p30v84c",
        "outputId": "24f5e4b9-846b-4973-dc75-361e99fbb3e6"
      },
      "source": [
        "# 중간에 숫자를 찾기 위해서는 search를 사용한다.(매칭되는 게 앞 부분에 없으면 search함수를 사용)\n",
        "# [A-Z] : 대문자들만 일치 / 대문자로된 a부터 z를 찾음\n",
        "# re.i: 대소문자를 구분하지 않는다.\n",
        "\n",
        "re.search(r'[A-Z]+', '01010101 has at least ONE 10110100').group()"
      ],
      "execution_count": null,
      "outputs": [
        {
          "output_type": "execute_result",
          "data": {
            "application/vnd.google.colaboratory.intrinsic+json": {
              "type": "string"
            },
            "text/plain": [
              "'ONE'"
            ]
          },
          "metadata": {
            "tags": []
          },
          "execution_count": 127
        }
      ]
    },
    {
      "cell_type": "code",
      "metadata": {
        "colab": {
          "base_uri": "https://localhost:8080/"
        },
        "id": "bl1aFJDzwIRV",
        "outputId": "5d40491f-e44e-4906-faee-d8b3c7acd9f9"
      },
      "source": [
        "# findall = 정규식에 부합하는 모든 문자열 찾기 -> 모든 소문자들이 들어 있는 토큰 찾기\n",
        "re.findall(r'[a-z]+', '01010101 Has at least ONE 10110100')"
      ],
      "execution_count": null,
      "outputs": [
        {
          "output_type": "execute_result",
          "data": {
            "text/plain": [
              "['as', 'at', 'least']"
            ]
          },
          "metadata": {
            "tags": []
          },
          "execution_count": 128
        }
      ]
    },
    {
      "cell_type": "code",
      "metadata": {
        "colab": {
          "base_uri": "https://localhost:8080/"
        },
        "id": "0iegxHlQxNuJ",
        "outputId": "fe7f3f7e-882b-494a-db99-5e7e8c916970"
      },
      "source": [
        "# 중간에 있는 숫자 추출하기\n",
        "re.findall(r'\\d+', '01010101 Has at least ONE 10110100')"
      ],
      "execution_count": null,
      "outputs": [
        {
          "output_type": "execute_result",
          "data": {
            "text/plain": [
              "['01010101', '10110100']"
            ]
          },
          "metadata": {
            "tags": []
          },
          "execution_count": 130
        }
      ]
    },
    {
      "cell_type": "code",
      "metadata": {
        "colab": {
          "base_uri": "https://localhost:8080/"
        },
        "id": "dHdKpGpJxXuz",
        "outputId": "e1613224-39da-4230-9378-28be7decd219"
      },
      "source": [
        "re.findall(r'\\D+', '01010101 Has at least ONE 10110100')"
      ],
      "execution_count": null,
      "outputs": [
        {
          "output_type": "execute_result",
          "data": {
            "text/plain": [
              "[' Has at least ONE ']"
            ]
          },
          "metadata": {
            "tags": []
          },
          "execution_count": 131
        }
      ]
    },
    {
      "cell_type": "code",
      "metadata": {
        "colab": {
          "base_uri": "https://localhost:8080/"
        },
        "id": "fS1CFxPLxuL4",
        "outputId": "f1e989a8-1369-49e3-8c2c-eab5ba81d581"
      },
      "source": [
        "re.findall(r'^\\d+', '01010101 Has at least ONE 10110100')"
      ],
      "execution_count": null,
      "outputs": [
        {
          "output_type": "execute_result",
          "data": {
            "text/plain": [
              "['01010101']"
            ]
          },
          "metadata": {
            "tags": []
          },
          "execution_count": 132
        }
      ]
    },
    {
      "cell_type": "code",
      "metadata": {
        "colab": {
          "base_uri": "https://localhost:8080/",
          "height": 134
        },
        "id": "zM9la7VWx3TQ",
        "outputId": "6eea2b10-6a28-4fab-e09d-33182dd9efb2"
      },
      "source": [
        "# sub: string으로 매치되는 부분을 문자열dmf rept\n",
        "re.('r'[a+z]+''), '[...] '01010101 Has at least  010 one letter 10110100', falgs = re.i)"
      ],
      "execution_count": null,
      "outputs": [
        {
          "output_type": "error",
          "ename": "SyntaxError",
          "evalue": "ignored",
          "traceback": [
            "\u001b[0;36m  File \u001b[0;32m\"<ipython-input-133-b3c4798f190b>\"\u001b[0;36m, line \u001b[0;32m1\u001b[0m\n\u001b[0;31m    sub: string으로 매치되는 부분을 문자열dmf rept\u001b[0m\n\u001b[0m                     ^\u001b[0m\n\u001b[0;31mSyntaxError\u001b[0m\u001b[0;31m:\u001b[0m invalid syntax\n"
          ]
        }
      ]
    },
    {
      "cell_type": "code",
      "metadata": {
        "colab": {
          "base_uri": "https://localhost:8080/",
          "height": 35
        },
        "id": "y27rQuCuzSm9",
        "outputId": "c79c4972-a7f5-48ce-95ba-7c2b99799efe"
      },
      "source": [
        "# 010-abcd-0100 에서 abcd 값을 ****으로 치환하라\n",
        "#re.sub을 통해서 만들기\n",
        "re.sub(r'[a-z]+', \"****\", '010-abcd-0100')\n",
        "\n",
        "\n",
        "re.sub(r'[0-9]+', '****', '010-abcd-0100')\n",
        "# 숫자만 *로 치환하라\n",
        "\n",
        "re.sub(r'\\D+', '****', '010-abcd-0100') \n",
        "# '-'도 사라지는 결과가 나타남\n",
        "\n",
        "re.sub(r'\\W+', '****', '010-abcd-0100') \n",
        "# -를 *로 치환하기\n",
        "\n",
        "re.sub(r'\\w+', '****', '010-abcd-0100') \n",
        "# 알파벳 대소문자, 숫자를 *로 치환하기"
      ],
      "execution_count": null,
      "outputs": [
        {
          "output_type": "execute_result",
          "data": {
            "application/vnd.google.colaboratory.intrinsic+json": {
              "type": "string"
            },
            "text/plain": [
              "'****-****-****'"
            ]
          },
          "metadata": {
            "tags": []
          },
          "execution_count": 144
        }
      ]
    },
    {
      "cell_type": "markdown",
      "metadata": {
        "id": "Lj1R0RrV68ir"
      },
      "source": [
        "# 파일과 기타 스트링 다루기\n",
        "* 글로빙: 정규 표현식으로 쓰인 파일명이나 와일드 카드를 매칭하는 과정\n",
        "* pickle: 다시 읽을 수 있도록 만든 파일형식"
      ]
    },
    {
      "cell_type": "code",
      "metadata": {
        "id": "TmF1Diaz5cRC"
      },
      "source": [
        ""
      ],
      "execution_count": null,
      "outputs": []
    }
  ]
}